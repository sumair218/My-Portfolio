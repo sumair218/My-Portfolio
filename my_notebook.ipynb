{
 "cells": [
  {
   "cell_type": "markdown",
   "id": "f4bc1582",
   "metadata": {},
   "source": [
    "!pip install pandas \n",
    "this is tex file"
   ]
  },
  {
   "cell_type": "code",
   "execution_count": null,
   "id": "9878dd51",
   "metadata": {},
   "outputs": [
    {
     "ename": "",
     "evalue": "",
     "output_type": "error",
     "traceback": [
      "\u001b[1;31mRunning cells with 'Python 3.11.9' requires the ipykernel package.\n",
      "\u001b[1;31m<a href='command:jupyter.createPythonEnvAndSelectController'>Create a Python Environment</a> with the required packages.\n",
      "\u001b[1;31mOr install 'ipykernel' using the command: '\"c:/Users/Sumair Irshad/AppData/Local/Microsoft/WindowsApps/python3.11.exe\" -m pip install ipykernel -U --user --force-reinstall'"
     ]
    }
   ],
   "source": [
    "### This code adds two numbers   <-- Text Cell (Markdown)\n",
    "a = 5                           \n",
    "b = 3\n",
    "print(\"Sum:\", a + b)\n"
   ]
  },
  {
   "cell_type": "markdown",
   "id": "c235621d",
   "metadata": {},
   "source": []
  }
 ],
 "metadata": {
  "kernelspec": {
   "display_name": "Python 3",
   "language": "python",
   "name": "python3"
  },
  "language_info": {
   "name": "python",
   "version": "3.11.9"
  }
 },
 "nbformat": 4,
 "nbformat_minor": 5
}
